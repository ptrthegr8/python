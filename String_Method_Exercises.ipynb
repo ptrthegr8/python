{
 "cells": [
  {
   "cell_type": "markdown",
   "metadata": {
    "colab_type": "text",
    "id": "WBWpHOFU3ZCx"
   },
   "source": [
    "\n",
    "![alt text](https://static1.squarespace.com/static/5992c2c7a803bb8283297efe/t/59c803110abd04d34ca9a1f0/1530629279239/?format=1500w)\n",
    "# String Method Excercises\n",
    "Here are some of the most common string methods. A method is like a function, but it runs \"on\" an object. If the variable s is a string, then the code `s.lower()` runs the `lower()` method on that string object and returns the result (this idea of a method running on an object is one of the basic ideas that make up Object Oriented Programming, OOP). \n",
    "\n",
    "These exercises will familiarize you with basic string methods in Python, and how to google and search for idiomatic (not idiotic!!) ways to do things.\n",
    "\n",
    "## To sequence through the exercises, use SHIFT+ENTER to run each cell.\n"
   ]
  },
  {
   "cell_type": "markdown",
   "metadata": {
    "colab_type": "text",
    "id": "RxgzAy2U1_Js"
   },
   "source": [
    "## Todo\n",
    "\n",
    " - s.strip() -- returns a string with whitespace removed from the start and end\n",
    " - s.isalpha()/s.isdigit()/s.isspace()... -- tests if all the string chars are in the various character classes\n",
    " - s.startswith('other'), s.endswith('other') -- tests if the string starts or ends with the given other string\n",
    " - s.find('other') -- searches for the given other string (not a regular expression) within s, and returns the first index where it begins or -1 if not found\n",
    " - s.replace('old', 'new') -- returns a string where all occurrences of 'old' have been replaced by 'new'\n",
    " - s.split('delim') -- returns a list of substrings separated by the given delimiter. The delimiter is not a regular expression, it's just text. 'aaa,bbb,ccc'.split(',') -> ['aaa', 'bbb', 'ccc']. As a convenient special case s.split() (with no arguments) splits on all whitespace chars.\n",
    " - s.join(list) -- opposite of split(), joins the elements in the given list together using the string as the delimiter. e.g. '---'.join(['aaa', 'bbb', 'ccc']) -> aaa---bbb---ccc"
   ]
  },
  {
   "cell_type": "markdown",
   "metadata": {
    "colab_type": "text",
    "id": "tixgJVmCwM-Q"
   },
   "source": [
    "## String Concatenation\n",
    "Just like with numbers, you can use the '+' operator to concatenate strings."
   ]
  },
  {
   "cell_type": "code",
   "execution_count": 1,
   "metadata": {
    "colab": {
     "autoexec": {
      "startup": false,
      "wait_interval": 0
     }
    },
    "colab_type": "code",
    "id": "NEi1R9w4wY5x"
   },
   "outputs": [
    {
     "name": "stdout",
     "output_type": "stream",
     "text": [
      "Python is fun!\n",
      "Happy Birthday\n"
     ]
    }
   ],
   "source": [
    "# Concatenation of string literals\n",
    "print 'Python ' + 'is ' + 'fun!'\n",
    "\n",
    "# Concatentation of string variables\n",
    "a = 'Happy'\n",
    "b = 'Birthday'\n",
    "\n",
    "print a + ' ' + b"
   ]
  },
  {
   "cell_type": "markdown",
   "metadata": {
    "colab_type": "text",
    "id": "bKg2rSUuwuoe"
   },
   "source": [
    "## String Length\n",
    "The python built-in function `len` can be used to find the length of a string.  Strings can have zero length."
   ]
  },
  {
   "cell_type": "code",
   "execution_count": 0,
   "metadata": {
    "colab": {
     "autoexec": {
      "startup": false,
      "wait_interval": 0
     }
    },
    "colab_type": "code",
    "id": "SOBTBAftxAGi"
   },
   "outputs": [],
   "source": [
    "# Length of a literal string\n",
    "print 'Trying out the len() built-in function:'\n",
    "print len('Rubber Baby Buggy Bumpers')\n",
    "\n",
    "# Length of a string variabe.\n",
    "# Notice the double quotes inside the single quotes.\n",
    "a = '\"Pepperoni Pizza for Lunch!\"'\n",
    "print 'String: ', a\n",
    "print 'length of String: ', len(a)\n",
    "\n",
    "# Empty String\n",
    "empty = ''\n",
    "print 'Length of empty string: ', len(empty)\n",
    "\n"
   ]
  },
  {
   "cell_type": "markdown",
   "metadata": {
    "colab_type": "text",
    "id": "WyZevTYXyef7"
   },
   "source": [
    "## String Manipulation with data methods\n",
    "Here are a few interactive excercises to try out various common string manipulations."
   ]
  },
  {
   "cell_type": "code",
   "execution_count": 0,
   "metadata": {
    "colab": {
     "autoexec": {
      "startup": false,
      "wait_interval": 0
     }
    },
    "colab_type": "code",
    "id": "u3e_d1GQ3i7l"
   },
   "outputs": [],
   "source": [
    "# Given the mixed case string below, convert it to all lowercase.\n",
    "# Oh yes and please fix up any syntax errors while you're at it!\n",
    "\n",
    "s = 'You're Lower than a SNAKE's BELLY in a WAGON rut!'\n",
    "\n",
    "print('BEFORE:', s)\n",
    "# --- add your conversion code here ---\n",
    "\n",
    "# ---\n",
    "print('AFTER:', s)\n",
    "\n",
    "# Test\n",
    "if s.islower():\n",
    "  print('YAY :)')\n",
    "else:\n",
    "  print('BOO :(')\n"
   ]
  },
  {
   "cell_type": "code",
   "execution_count": 0,
   "metadata": {
    "colab": {
     "autoexec": {
      "startup": false,
      "wait_interval": 0
     }
    },
    "colab_type": "code",
    "id": "nGpbGTh_TtmA"
   },
   "outputs": [],
   "source": [
    "# Given the lowercase string below, convert it to all caps.\n",
    "\n",
    "s = 'june 28 and october 22 are very special days!'\n",
    "\n",
    "print('BEFORE:', s)\n",
    "# --- add your conversion code here ---\n",
    "\n",
    "# ---\n",
    "print('AFTER:', s)\n",
    "\n",
    "# Test\n",
    "if s.isupper():\n",
    "  print('YAY :)')\n",
    "else:\n",
    "  print('BOO :(')\n"
   ]
  },
  {
   "cell_type": "code",
   "execution_count": 0,
   "metadata": {
    "colab": {
     "autoexec": {
      "startup": false,
      "wait_interval": 0
     }
    },
    "colab_type": "code",
    "id": "8qrPczYdYTPg"
   },
   "outputs": [],
   "source": [
    "# Use a string method to detect if the given filename has a jpg extension or not.\n",
    "\n",
    "filename = 'image.jpg'\n",
    "\n",
    "# is_jpg should evaluate to a boolean type in python.\n",
    "is_jpg = ???\n",
    "\n",
    "# Test\n",
    "print type(is_jpg)\n",
    "if is_jpg:\n",
    "  print('YAY :)')\n",
    "else:\n",
    "  print('BOO :(')\n"
   ]
  },
  {
   "cell_type": "markdown",
   "metadata": {
    "colab_type": "text",
    "id": "L3hTfAnWS1ay"
   },
   "source": [
    "Text"
   ]
  },
  {
   "cell_type": "markdown",
   "metadata": {
    "colab_type": "text",
    "id": "SRTi-eA4l-5c"
   },
   "source": [
    "# Great Job!  You are a String Wizard\n",
    "\n",
    "![alt text](https://encrypted-tbn0.gstatic.com/images?q=tbn:ANd9GcTAATfKeDhjFhxbeRWhDrU82bq1HY0W741IBaInrUGtLJyVMPsZ)\n",
    "\n",
    "Here Strings have made me think of String Cheese and then to grilled string cheese."
   ]
  },
  {
   "cell_type": "code",
   "execution_count": 0,
   "metadata": {
    "colab": {
     "autoexec": {
      "startup": false,
      "wait_interval": 0
     }
    },
    "colab_type": "code",
    "id": "cTflvJLIlGUJ"
   },
   "outputs": [],
   "source": []
  }
 ],
 "metadata": {
  "colab": {
   "collapsed_sections": [],
   "default_view": {},
   "name": "String Method Exercises",
   "private_outputs": true,
   "provenance": [
    {
     "file_id": "1pxQX-iqOybVKxzZWrnNrlLvLNvRLmYbt",
     "timestamp": 1530841185068
    },
    {
     "file_id": "1kTNHZRpgo0v17NpfMi-HNqfJzAxgGLBA",
     "timestamp": 1530646099702
    }
   ],
   "version": "0.3.2",
   "views": {}
  },
  "kernelspec": {
   "display_name": "Python 2",
   "language": "python",
   "name": "python2"
  },
  "language_info": {
   "codemirror_mode": {
    "name": "ipython",
    "version": 2
   },
   "file_extension": ".py",
   "mimetype": "text/x-python",
   "name": "python",
   "nbconvert_exporter": "python",
   "pygments_lexer": "ipython2",
   "version": "2.7.15"
  }
 },
 "nbformat": 4,
 "nbformat_minor": 1
}
