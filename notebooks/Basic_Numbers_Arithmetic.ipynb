{
 "cells": [
  {
   "cell_type": "markdown",
   "metadata": {},
   "source": [
    "\n",
    "# Numbers in Python\n",
    "Numbers in python have two main forms:\n",
    " - Integers (whole numbers like 1, 5, 99, -22)\n",
    " - Floating Point (Real numbers with decimal points like 1.2, 3.14159, -42.42)\n",
    " \n",
    "Python can perform math and aritmetic operations easily.  Let's examine what numbers look and feel like in the Python interpreter REPL."
   ]
  },
  {
   "cell_type": "markdown",
   "metadata": {},
   "source": [
    "## Use SHIFT+ENTER to run each cell.\n",
    "These exercises use a tool called Juptyer Notebook.  Here are some quick guidelines:\n",
    " - Each block of python code is called a cell.\n",
    " - You are running an actual python program, cell-by-cell.\n",
    " - You can edit and re-run the code cells in place without overwriting the original notebook.\n",
    " - Don't worry about the `In [x]:` or `Out [y]:` notations on the left margin.\n",
    " - **Variables are remembered between cells.**  \n"
   ]
  },
  {
   "cell_type": "code",
   "execution_count": null,
   "metadata": {},
   "outputs": [],
   "source": [
    "# Here's an integer\n",
    "101"
   ]
  },
  {
   "cell_type": "code",
   "execution_count": null,
   "metadata": {},
   "outputs": [],
   "source": [
    "# We can find out what basic type it is:\n",
    "type(101)"
   ]
  },
  {
   "cell_type": "code",
   "execution_count": null,
   "metadata": {},
   "outputs": [],
   "source": [
    "# Here's a floating point number\n",
    "1.9"
   ]
  },
  {
   "cell_type": "code",
   "execution_count": null,
   "metadata": {},
   "outputs": [],
   "source": [
    "# What type is it?\n",
    "type(1.9)"
   ]
  },
  {
   "cell_type": "code",
   "execution_count": null,
   "metadata": {},
   "outputs": [],
   "source": [
    "# let's try a whole number with a decimal point -- should be a FLOAT\n",
    "type(101.0)"
   ]
  },
  {
   "cell_type": "code",
   "execution_count": null,
   "metadata": {},
   "outputs": [],
   "source": [
    "# What if we leave off the trailing 0? -- should still be a FLOAT.\n",
    "# Integers cannot have decimal points.\n",
    "type(101.)"
   ]
  },
  {
   "cell_type": "markdown",
   "metadata": {},
   "source": [
    "## Basic Arithmetic"
   ]
  },
  {
   "cell_type": "code",
   "execution_count": null,
   "metadata": {},
   "outputs": [],
   "source": [
    "# Addition\n",
    "1+1"
   ]
  },
  {
   "cell_type": "code",
   "execution_count": null,
   "metadata": {},
   "outputs": [],
   "source": [
    "# Subtraction\n",
    "10-4"
   ]
  },
  {
   "cell_type": "code",
   "execution_count": null,
   "metadata": {},
   "outputs": [],
   "source": [
    "# Multiplication\n",
    "6*7"
   ]
  },
  {
   "cell_type": "code",
   "execution_count": null,
   "metadata": {},
   "outputs": [],
   "source": [
    "# Division\n",
    "3/2"
   ]
  },
  {
   "cell_type": "code",
   "execution_count": null,
   "metadata": {},
   "outputs": [],
   "source": [
    "# In python 2, The return type of a division (/) operation depends on its operands. \n",
    "# If both operands are of type int, floor division is performed and an int is returned. \n",
    "\n",
    "1/1 # dividing two ints.  In Python 3 this returns a float!\n",
    "\n",
    "# Sidenote: to illustrate a difference between python2 and python3, \n",
    "# run this cell again after switching the Jupyter Notebook kernel to 'Python 3'.\n",
    "# Use 'Kernel->Change kernel in the top bar menu.'"
   ]
  },
  {
   "cell_type": "code",
   "execution_count": null,
   "metadata": {},
   "outputs": [],
   "source": [
    "# If either operand is a float, classic division is performed and a float is returned.\n",
    "\n",
    "1/1.0"
   ]
  },
  {
   "cell_type": "code",
   "execution_count": null,
   "metadata": {},
   "outputs": [],
   "source": [
    "# The explicit floor division operator (//) makes your intent clear.\n",
    "# This will discard any fractional portion of the division.\n",
    "17//3"
   ]
  },
  {
   "cell_type": "code",
   "execution_count": null,
   "metadata": {},
   "outputs": [],
   "source": [
    "# Exponents (powers)\n",
    "2**3"
   ]
  },
  {
   "cell_type": "code",
   "execution_count": null,
   "metadata": {},
   "outputs": [],
   "source": [
    "# Order of Operations\n",
    "1 + 2 * 1000 + 1"
   ]
  },
  {
   "cell_type": "code",
   "execution_count": null,
   "metadata": {},
   "outputs": [],
   "source": [
    "# Use parentheses to make your intent clear .. and correct\n",
    "(1 + 2) * (1000 + 1)"
   ]
  },
  {
   "cell_type": "markdown",
   "metadata": {},
   "source": [
    "Python's floats are internally represented using binary [IEEE 754 standard](https://en.wikipedia.org/wiki/IEEE_754) for floating point numbers.  They lack precision, and rounding errors are possible. For a more in-depth explanation of floating point operations within Python, see [Floating point Issues and Limitations](https://docs.python.org/2/tutorial/floatingpoint.html) "
   ]
  },
  {
   "cell_type": "code",
   "execution_count": null,
   "metadata": {},
   "outputs": [],
   "source": [
    "# Peek under the floating point hood for a moment ...\n",
    "from decimal import Decimal\n",
    "# assign the float value of 0.1 to a variable\n",
    "number = 0.1\n",
    "# let's have a look at what's really inside!\n",
    "unrounded_number = Decimal(number)\n",
    "\n",
    "print(number)\n",
    "print(unrounded_number)"
   ]
  },
  {
   "cell_type": "markdown",
   "metadata": {},
   "source": [
    "## Assigning Variables\n"
   ]
  },
  {
   "cell_type": "code",
   "execution_count": null,
   "metadata": {},
   "outputs": [],
   "source": [
    "# Here's some plain old integer assignment.  Don't have to declare its type beforehand!\n",
    "a = 2"
   ]
  },
  {
   "cell_type": "code",
   "execution_count": null,
   "metadata": {},
   "outputs": [],
   "source": [
    "# Python knows the type.\n",
    "type(a)"
   ]
  },
  {
   "cell_type": "code",
   "execution_count": null,
   "metadata": {},
   "outputs": [],
   "source": [
    "# Addition with variables\n",
    "a + 3"
   ]
  },
  {
   "cell_type": "code",
   "execution_count": null,
   "metadata": {},
   "outputs": [],
   "source": [
    "# Another assignment\n",
    "b = 3"
   ]
  },
  {
   "cell_type": "code",
   "execution_count": null,
   "metadata": {},
   "outputs": [],
   "source": [
    "# Adding two variables\n",
    "a + b"
   ]
  },
  {
   "cell_type": "code",
   "execution_count": null,
   "metadata": {},
   "outputs": [],
   "source": [
    "# Reassignment -- give a new value to a, because it is MUTABLE (changeable).\n",
    "a = 1000"
   ]
  },
  {
   "cell_type": "code",
   "execution_count": null,
   "metadata": {},
   "outputs": [],
   "source": [
    "a + b"
   ]
  },
  {
   "cell_type": "code",
   "execution_count": null,
   "metadata": {},
   "outputs": [],
   "source": [
    "# You can assign the same variable to itself.  The right-hand side is evaluated first.\n",
    "a = a + a"
   ]
  },
  {
   "cell_type": "code",
   "execution_count": null,
   "metadata": {},
   "outputs": [],
   "source": [
    "# Notice that if you run the cell above several times, the value of a gets incremented.\n",
    "# Variables are persistent across Notebook cells.\n",
    "a"
   ]
  },
  {
   "cell_type": "code",
   "execution_count": null,
   "metadata": {},
   "outputs": [],
   "source": [
    "# You may encounter shorthand notation '+=' for incrementing a variable.\n",
    "# Run this cell a couple of times and see that a increments.\n",
    "a += 2\n",
    "a"
   ]
  },
  {
   "cell_type": "markdown",
   "metadata": {},
   "source": [
    "## The Python Underscore _\n",
    "The underscore '_' has [special meaning](https://hackernoon.com/understanding-the-underscore-of-python-309d1a029edc) in Python.\n",
    "You will encounter this **ALL THE TIME** when reading and writing Python code.\n",
    "In the interactive environment, it holds the value of the most recent expression.  This variable should be treated as read-only by the user. Don’t explicitly assign a value to it — you would create an independent local variable with the same name masking the built-in variable with its magic behavior."
   ]
  },
  {
   "cell_type": "code",
   "execution_count": null,
   "metadata": {},
   "outputs": [],
   "source": [
    "# What does it hold right now?  Should be the value of variable a from above.\n",
    "_"
   ]
  },
  {
   "cell_type": "code",
   "execution_count": null,
   "metadata": {},
   "outputs": [],
   "source": [
    "10  # A new simple expression -- just '10'"
   ]
  },
  {
   "cell_type": "code",
   "execution_count": null,
   "metadata": {},
   "outputs": [],
   "source": [
    "_  # The underscore (nameless variable) holds the last expression."
   ]
  },
  {
   "cell_type": "markdown",
   "metadata": {},
   "source": [
    "## A simple encryption exercise\n",
    "Lets create a numeric message, then encrypt it, then decrypt it"
   ]
  },
  {
   "cell_type": "code",
   "execution_count": null,
   "metadata": {},
   "outputs": [],
   "source": [
    "# The original message\n",
    "message = 123"
   ]
  },
  {
   "cell_type": "code",
   "execution_count": null,
   "metadata": {},
   "outputs": [],
   "source": [
    "# FIXME Create an encryption (hash) code from an arbitrary large integer.\n",
    "hash_code = ???"
   ]
  },
  {
   "cell_type": "code",
   "execution_count": null,
   "metadata": {},
   "outputs": [],
   "source": [
    "# FIXME\n",
    "# Create a 'secret message' variable that multiplies the message and hash_code.\n",
    "# Experiment with tab-completion of variable names: Type 'mess' + TAB and 'hash' + TAB.\n",
    "secret_message = ???\n",
    "print(secret_message)"
   ]
  },
  {
   "cell_type": "code",
   "execution_count": null,
   "metadata": {},
   "outputs": [],
   "source": [
    "# Now let's recover the original message with some division math\n",
    "decrypted_message = ???"
   ]
  },
  {
   "cell_type": "code",
   "execution_count": null,
   "metadata": {},
   "outputs": [],
   "source": [
    "# What is the original message?  Let's verify it\n",
    "print(decrypted_message)\n",
    "\n",
    "if decrypted_message == message:\n",
    "    print('YAY :)')\n",
    "else:\n",
    "    print('BOO :(')"
   ]
  }
 ],
 "metadata": {
  "kernelspec": {
   "display_name": "Python 2",
   "language": "python",
   "name": "python2"
  },
  "language_info": {
   "codemirror_mode": {
    "name": "ipython",
    "version": 2
   },
   "file_extension": ".py",
   "mimetype": "text/x-python",
   "name": "python",
   "nbconvert_exporter": "python",
   "pygments_lexer": "ipython2",
   "version": "2.7.15"
  }
 },
 "nbformat": 4,
 "nbformat_minor": 2
}
