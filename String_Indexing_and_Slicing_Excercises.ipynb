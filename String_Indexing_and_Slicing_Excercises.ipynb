{
  "nbformat": 4,
  "nbformat_minor": 0,
  "metadata": {
    "colab": {
      "name": "String Indexing and Slicing Excercises",
      "version": "0.3.2",
      "views": {},
      "default_view": {},
      "provenance": [],
      "private_outputs": true,
      "collapsed_sections": []
    },
    "kernelspec": {
      "name": "python2",
      "display_name": "Python 2"
    }
  },
  "cells": [
    {
      "metadata": {
        "id": "WBWpHOFU3ZCx",
        "colab_type": "text"
      },
      "cell_type": "markdown",
      "source": [
        "# String Indexing and Slicing Excercises\n",
        "Strings are an ordered sequence of characters enclosed with either single or double quotes.\n",
        "Since they are ordered, we can use indexing to retrieve individual characters, or slicing to retrieve a subsection of the original string.\n",
        "\n",
        "\n",
        "## Use SHIFT+ENTER (or the left PLAY icon) to run each cell.\n",
        "You can edit the code cells in place without overwriting the original notebook."
      ]
    },
    {
      "metadata": {
        "id": "u3e_d1GQ3i7l",
        "colab_type": "code",
        "colab": {
          "autoexec": {
            "startup": false,
            "wait_interval": 0
          }
        }
      },
      "cell_type": "code",
      "source": [
        "# Let's start with a familiar string, declared with single quotes\n",
        "my_string = 'The quick brown fox jumped over the lazy dogs'\n",
        "\n",
        "# Here's the same string declared using double quotes\n",
        "my_string = \"The quick brown fox jumped over the lazy dogs\"\n",
        "\n",
        "print(my_string)"
      ],
      "execution_count": 0,
      "outputs": []
    },
    {
      "metadata": {
        "id": "L3hTfAnWS1ay",
        "colab_type": "text"
      },
      "cell_type": "markdown",
      "source": [
        "Sometimes you will need to create a string with embedded quote marks.  In this case you must 'escape' the additional quote with a backslash."
      ]
    },
    {
      "metadata": {
        "id": "aOHiIT90TJ91",
        "colab_type": "code",
        "colab": {
          "autoexec": {
            "startup": false,
            "wait_interval": 0
          }
        }
      },
      "cell_type": "code",
      "source": [
        "# A string with double quotes enclosing some single quote characters.  Works fine!\n",
        "with_quote = \"I ain't not never gonna can't won't wouldn't\"\n",
        "\n",
        "# A string with single quotes, with more single quotes embedded.  \n",
        "# Note the syntax highlighting in this cell is telling you that something is wrong.\n",
        "# Fix this syntax error by escaping the embedded quote.\n",
        "emb_quote = 'Won't you be my neighbor?'\n",
        "\n",
        "print(with_quote)\n",
        "print(emb_quote)"
      ],
      "execution_count": 0,
      "outputs": []
    },
    {
      "metadata": {
        "id": "d_9wqZF6WAbS",
        "colab_type": "code",
        "colab": {
          "autoexec": {
            "startup": false,
            "wait_interval": 0
          }
        }
      },
      "cell_type": "code",
      "source": [
        "# A string that spans multiple lines -- use triple quotes.  \n",
        "# Note that newlines '\\n' are created within the string!\n",
        "multi_line = \"\"\"This really long\n",
        "string has several\n",
        "lines that all get put together,\n",
        "with embedded newlines.\n",
        "\"\"\"\n",
        "print(multi_line)\n",
        "multi_line\n"
      ],
      "execution_count": 0,
      "outputs": []
    },
    {
      "metadata": {
        "id": "FFgQwcPWIqGL",
        "colab_type": "text"
      },
      "cell_type": "markdown",
      "source": [
        "## Forward Indexing\n",
        "When we say a string is ordered, that means there is a numerical index that relates to the position of every character.  The actions of indexing and slicing use square brackets [  ] and a numeric value to refer to characters in the string. As in other languages, python uses 0-based indexing.\n",
        "\n",
        "---\n",
        "Example of forward indexing\n",
        "```\n",
        "a = 'hello'\n",
        "a[0] = 'h'\n",
        "a[1] = 'e'\n",
        "a[2] = 'l'\n",
        "a[3] = 'l'\n",
        "a[4] = 'o'\n",
        "```\n",
        "\n"
      ]
    },
    {
      "metadata": {
        "id": "_dR63ZgPIhFl",
        "colab_type": "code",
        "colab": {
          "autoexec": {
            "startup": false,
            "wait_interval": 0
          }
        }
      },
      "cell_type": "code",
      "source": [
        "# Complete the line below to print the first character of my_string.\n",
        "# You should see the letter 'T' as output.\n",
        "print(my_string)\n",
        "print('First char is', my_string[???])"
      ],
      "execution_count": 0,
      "outputs": []
    },
    {
      "metadata": {
        "id": "pqUQwc0XKJUN",
        "colab_type": "code",
        "colab": {
          "autoexec": {
            "startup": false,
            "wait_interval": 0
          }
        }
      },
      "cell_type": "code",
      "source": [
        "# Complete the line below to index the letter 'x' within my_string.\n",
        "# Your code should output 'True'\n",
        "print(my_string)\n",
        "my_string[???] == 'x'"
      ],
      "execution_count": 0,
      "outputs": []
    },
    {
      "metadata": {
        "id": "U-IrEex7Nydl",
        "colab_type": "text"
      },
      "cell_type": "markdown",
      "source": [
        "## Reverse Indexing\n",
        "Python also supports the concept of reverse indexing.  In this model, the LAST character of the string is indexed as -1, the second-to-last as -2, and so on.  The first character of a string is always indexed as 0 regardless of whether you are using forward or reverse indexing.\n",
        "\n",
        "---\n",
        "Example of reverse indexing\n",
        "```\n",
        "a = 'hello'\n",
        "a[0] = 'h'\n",
        "a[-4] = 'e'\n",
        "a[-3] = 'l'\n",
        "a[-2] = 'l'\n",
        "a[-1] = 'o'\n",
        "```\n",
        "Reverse indexing is useful when you don't know how large your string is, and you just want to grab trailing subsections of it, or the last character at the end.  You can start intuitively from the end and work backwards without needing the full length of the string."
      ]
    },
    {
      "metadata": {
        "id": "vZ549vGzMiQd",
        "colab_type": "code",
        "colab": {
          "autoexec": {
            "startup": false,
            "wait_interval": 0
          }
        }
      },
      "cell_type": "code",
      "source": [
        "# Complete the line below to print the last character of my_string using reverse indexing.\n",
        "# You should see 's' at the output.\n",
        "print(my_string)\n",
        "print('Last character is ', my_string[???])"
      ],
      "execution_count": 0,
      "outputs": []
    },
    {
      "metadata": {
        "id": "faYaY0_CQ5-v",
        "colab_type": "text"
      },
      "cell_type": "markdown",
      "source": [
        "## Slice notation\n",
        "String slices allows you to extract subsets of a string, or substrings.  Slice notation also uses square brackets [ ] in the following format. The `start` and `stop` and `step` parameters are optional as we will see.\n",
        "```\n",
        "[start:stop:step]\n",
        "\n",
        "# start is a numerical index for slice start\n",
        "# stop is the index to go up to, BUT NOT INCLUDED in the slice\n",
        "# step (or stride) is how large of a jump to make between characters\n",
        "```\n"
      ]
    },
    {
      "metadata": {
        "id": "J7imfBa2P3Qc",
        "colab_type": "code",
        "colab": {
          "autoexec": {
            "startup": false,
            "wait_interval": 0
          }
        }
      },
      "cell_type": "code",
      "source": [
        "# Declare a mini alphabet string\n",
        "alpha = 'abcdef'\n",
        "# Fix the code to print only the first three characters 'abc' of alpha using slice notation.\n",
        "# REMEMBER that the stop index is NOT INCLUDED in the output.\n",
        "my_slice = alpha[???]\n",
        "print(my_slice)\n",
        "\n",
        "if my_slice == 'abc':\n",
        "  print('YAY :)')\n",
        "else:\n",
        "  print('BOO :(')"
      ],
      "execution_count": 0,
      "outputs": []
    },
    {
      "metadata": {
        "id": "2ug9-wkDZLgQ",
        "colab_type": "code",
        "colab": {
          "autoexec": {
            "startup": false,
            "wait_interval": 0
          }
        }
      },
      "cell_type": "code",
      "source": [
        "# Fix the code below to print the substring 'cd' from alpha, using slice notation.\n",
        "my_slice = alpha[???]\n",
        "print(my_slice)\n",
        "\n",
        "if my_slice == 'cd':\n",
        "  print('YAY :)')\n",
        "else:\n",
        "  print('BOO :(')"
      ],
      "execution_count": 0,
      "outputs": []
    },
    {
      "metadata": {
        "id": "jvPi3Dq3ayZX",
        "colab_type": "text"
      },
      "cell_type": "markdown",
      "source": [
        "## Special Slice Notations\n",
        "Sometimes the start and stop parameters in slice notation are not required and can be omitted, for example when extracting the first or last parts of a string.\n",
        "\n",
        "Using the alpha string from before, this notation will return the substring starting at index 2, and the remaining string afterwards.\n",
        "```\n",
        "alpha[2:] = 'cdef'\n",
        "```\n",
        "\n",
        "Here we extract the beginning of the string, up to (but not including) index 2.\n",
        "```\n",
        "alpha[:2] = 'ab'\n",
        "```"
      ]
    },
    {
      "metadata": {
        "id": "LvM_gh3NX10v",
        "colab_type": "code",
        "colab": {
          "autoexec": {
            "startup": false,
            "wait_interval": 0
          }
        }
      },
      "cell_type": "code",
      "source": [
        "# Fix the code below to print the substring 'The quick brown fox' from my_string. \n",
        "# Using special slice notation and omit the start index.\n",
        "my_slice = my_string[???]\n",
        "print(my_slice)\n",
        "\n",
        "if my_slice == 'The quick brown fox':\n",
        "  print('YAY :)')\n",
        "else:\n",
        "  print('BOO :(')\n"
      ],
      "execution_count": 0,
      "outputs": []
    },
    {
      "metadata": {
        "id": "bd8vXeJiiSwT",
        "colab_type": "code",
        "colab": {
          "autoexec": {
            "startup": false,
            "wait_interval": 0
          }
        }
      },
      "cell_type": "code",
      "source": [
        "# Fix the code below to print the substring 'the lazy dogs' from my_string. \n",
        "# Using special slice notation and omit the stop index.\n",
        "my_slice = my_string[???]\n",
        "print(my_slice)\n",
        "\n",
        "if my_slice == 'the lazy dogs':\n",
        "  print('YAY :)')\n",
        "else:\n",
        "  print('BOO :(')"
      ],
      "execution_count": 0,
      "outputs": []
    },
    {
      "metadata": {
        "id": "j7YKbaVrkfN5",
        "colab_type": "code",
        "colab": {
          "autoexec": {
            "startup": false,
            "wait_interval": 0
          }
        }
      },
      "cell_type": "code",
      "source": [
        "# BONUS - NEGATIVE SLICE INDEXING\n",
        "# Fix the code below to print the substring 'lazy dogs' from my_string. \n",
        "# Use negative indexing and special slice notation to omit the stop index.\n",
        "my_slice = my_string[???]\n",
        "print(my_slice)\n",
        "\n",
        "if my_slice == 'lazy dogs':\n",
        "  print('YAY :)')\n",
        "else:\n",
        "  print('BOO :(')"
      ],
      "execution_count": 0,
      "outputs": []
    },
    {
      "metadata": {
        "id": "jxYWjAnptXI9",
        "colab_type": "text"
      },
      "cell_type": "markdown",
      "source": [
        "## Super extra bonus\n",
        "Here's a favorite excercise you may have already done before.  Hint: In python it's a one-liner, no for-loops or iteration required."
      ]
    },
    {
      "metadata": {
        "id": "8Y-m0YcHtv1M",
        "colab_type": "code",
        "colab": {
          "autoexec": {
            "startup": false,
            "wait_interval": 0
          }
        }
      },
      "cell_type": "code",
      "source": [
        "# Reverse the contents of the string variable below\n",
        "\n",
        "my_hero = 'Captain America'\n",
        "print my_hero\n",
        "\n",
        "my_hero_rev = my_hero[???]\n",
        "\n",
        "print my_hero_rev\n",
        "if my_hero_rev == 'aciremA niatpaC':\n",
        "  print('YAY :)')\n",
        "else:\n",
        "  print('BOO :(')"
      ],
      "execution_count": 0,
      "outputs": []
    },
    {
      "metadata": {
        "id": "SRTi-eA4l-5c",
        "colab_type": "text"
      },
      "cell_type": "markdown",
      "source": [
        "# Great Job!  You are an indexing and slicing wizard now!\n",
        "\n",
        "![Slice Wizard](https://image.made-in-china.com/201f0j00eCbTSGvEaMzR/Vidalia-Slice-Wizard-EF-7128-.jpg)\n"
      ]
    },
    {
      "metadata": {
        "id": "cTflvJLIlGUJ",
        "colab_type": "code",
        "colab": {
          "autoexec": {
            "startup": false,
            "wait_interval": 0
          }
        }
      },
      "cell_type": "code",
      "source": [
        ""
      ],
      "execution_count": 0,
      "outputs": []
    }
  ]
}
